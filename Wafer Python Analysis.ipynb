{
 "cells": [
  {
   "cell_type": "code",
   "execution_count": 13,
   "id": "54853b10-ffbd-4356-87b6-e9e35d35bd44",
   "metadata": {},
   "outputs": [
    {
     "name": "stdout",
     "output_type": "stream",
     "text": [
      "Ioff failures: 52/517 = 10.06%\n",
      "Ioff fails with a physical defect: 4 (7.69%)\n",
      "PhysicalDefect\n",
      "EdgeDelamination         2\n",
      "ParticleContamination    1\n",
      "EdgeCrack                1\n",
      "Name: count, dtype: int64\n",
      "                 count         mean      median\n",
      "Chemical Lot ID                                \n",
      "CL225              517  1025.928997  624.415761\n",
      "Tool ID\n",
      "P1    52\n",
      "dtype: int64\n",
      "Probe Card ID\n",
      "PC-1006    52\n",
      "Name: count, dtype: int64\n",
      "Wafer ID\n",
      "812c410f    52\n",
      "dtype: int64\n",
      "Fraction of Ioff fails at wafer edge: 0.19230769230769232\n",
      "Threshold Voltage (V)    0.019669\n",
      "On-Resistance (mΩ)       0.078213\n",
      "Idss_A                   0.887912\n",
      "Ioff_nA                  1.000000\n",
      "Name: Ioff_nA, dtype: float64\n"
     ]
    }
   ],
   "source": [
    "import pandas as pd\n",
    "df = pd.read_csv(\"synth_power_mosfet.csv\")\n",
    "ioff_limit = 2000  # nA (default power_mainstream). Adjust if you changed PRESET\n",
    "USABLE_RADIUS_MM = 147\n",
    "# identify Ioff failures\n",
    "ioff_fails = df[df[\"Ioff_nA\"] > ioff_limit]\n",
    "ioff_passes = df[df[\"Ioff_nA\"] <= ioff_limit]\n",
    "\n",
    "len_total = len(df)\n",
    "len_ioff_fails = len(ioff_fails)\n",
    "print(f\"Ioff failures: {len_ioff_fails}/{len_total} = {100*len_ioff_fails/len_total:.2f}%\")\n",
    "\n",
    "# fraction of Ioff fails that have a physical defect\n",
    "phys_count = ioff_fails[\"PhysicalDefect\"].notna().sum()\n",
    "print(f\"Ioff fails with a physical defect: {phys_count} ({phys_count/len_ioff_fails:.2%})\")\n",
    "# breakdown by defect subtype\n",
    "print(ioff_fails[\"PhysicalDefect\"].value_counts())\n",
    "\n",
    "#Pareto:\n",
    "#print(df[df[\"Test Result\"]==\"Fail\"][\"FailureCause_First\"].value_counts().head(20))\n",
    "# chemical lot association\n",
    "print(df.groupby(\"Chemical Lot ID\")[\"Ioff_nA\"].agg([\"count\",\"mean\",\"median\"]).sort_values(\"mean\", ascending=False).head(10))\n",
    "# slab: how many ioff fails per tool\n",
    "print(df[df[\"Ioff_nA\"]>ioff_limit].groupby(\"Tool ID\").size().sort_values(ascending=False))\n",
    "# probe card association\n",
    "print(df[df[\"Ioff_nA\"]>ioff_limit][\"Probe Card ID\"].value_counts().head(10))\n",
    "\n",
    "# per wafer map counts\n",
    "print(df[df[\"Ioff_nA\"]>ioff_limit].groupby(\"Wafer ID\").size().sort_values(ascending=False).head(10))\n",
    "\n",
    "# compute fraction of Ioff fails that are near edges:\n",
    "edge_frac = (ioff_fails[\"Defect Radius (mm)\"] > (USABLE_RADIUS_MM * 0.85)).mean()\n",
    "print(\"Fraction of Ioff fails at wafer edge:\", edge_frac)\n",
    "\n",
    "# correlation between Ioff and Vth or Idss\n",
    "print(df[[\"Ioff_nA\",\"Threshold Voltage (V)\",\"Idss_A\",\"On-Resistance (mΩ)\"]].corr()[\"Ioff_nA\"].sort_values())\n",
    "\n",
    "#Possible temperature\n",
    "print(\"Mean ambient temp for Ioff fails:\", ioff_fails[\"Ambient Temperature (°C)\"].mean())\n",
    "print(\"Mean ambient temp for passes:\", ioff_passes[\"Ambient Temperature (°C)\"].mean())\n"
   ]
  },
  {
   "cell_type": "code",
   "execution_count": 15,
   "id": "b5ec88d8-13a1-4fcc-aa3d-aac6a2429280",
   "metadata": {},
   "outputs": [
    {
     "name": "stdout",
     "output_type": "stream",
     "text": [
      "Pearson corr (log10 space) between Idss and Ioff: 0.6444464726232508\n",
      "Parametric corr (log10): 0.31417307617303303 n= 50\n",
      "Physical corr (log10): 0.6649333565170324 n= 13\n"
     ]
    }
   ],
   "source": [
    "# assuming df_all DataFrame\n",
    "import numpy as np\n",
    "# convert to A for Idss and Ioff (Ioff_nA -> A)\n",
    "df[\"Ioff_A\"] = df[\"Ioff_nA\"] * 1e-9\n",
    "# compute correlations in log space (avoid log(0))\n",
    "eps = 1e-15\n",
    "log_idss = np.log10(df[\"Idss_A\"].clip(lower=eps))\n",
    "log_ioff = np.log10(df[\"Ioff_A\"].clip(lower=eps))\n",
    "\n",
    "pearson = np.corrcoef(log_idss, log_ioff)[0,1]\n",
    "print(\"Pearson corr (log10 space) between Idss and Ioff:\", pearson)\n",
    "\n",
    "# Break down by defect type\n",
    "for dtype, sub in df.groupby(\"Defect Type\"):\n",
    "    if len(sub) >= 10:\n",
    "        li = np.corrcoef(np.log10(sub[\"Idss_A\"].clip(lower=eps)), np.log10(sub[\"Ioff_A\"].clip(lower=eps)))[0,1]\n",
    "        print(dtype, \"corr (log10):\", li, \"n=\", len(sub))\n"
   ]
  },
  {
   "cell_type": "code",
   "execution_count": 16,
   "id": "ef9d4945-42b9-494f-8932-a0e2101e30fb",
   "metadata": {},
   "outputs": [
    {
     "name": "stdout",
     "output_type": "stream",
     "text": [
      "Ioff percentiles (nA):\n",
      "0.50     624.415761\n",
      "0.90    2022.199698\n",
      "0.95    2593.805243\n",
      "0.99    4903.202708\n",
      "Name: Ioff_nA, dtype: float64\n",
      "Idss (A) percentiles:\n",
      "0.50    2.766094e-07\n",
      "0.90    5.969821e-07\n",
      "0.95    7.988762e-07\n",
      "0.99    1.379203e-06\n",
      "Name: Idss_A, dtype: float64\n",
      "Corr log10(Idss), log10(Ioff): 0.6444464726232497\n",
      "Ioff fail count: 52\n",
      "Fraction with PhysicalDefect: 0.07692307692307693\n",
      "Top physical types among Ioff fails:\n",
      "PhysicalDefect\n",
      "EdgeDelamination         2\n",
      "ParticleContamination    1\n",
      "EdgeCrack                1\n",
      "Name: count, dtype: int64\n"
     ]
    }
   ],
   "source": [
    "# quick stats\n",
    "df[\"Ioff_A\"] = df[\"Ioff_nA\"] * 1e-9\n",
    "df[\"log_ioff\"] = np.log10(df[\"Ioff_A\"].clip(lower=1e-15))\n",
    "df[\"log_idss\"] = np.log10(df[\"Idss_A\"].clip(lower=1e-15))\n",
    "\n",
    "print(\"Ioff percentiles (nA):\")\n",
    "print(df[\"Ioff_nA\"].quantile([0.5,0.9,0.95,0.99]))\n",
    "print(\"Idss (A) percentiles:\")\n",
    "print(df[\"Idss_A\"].quantile([0.5,0.9,0.95,0.99]))\n",
    "\n",
    "print(\"Corr log10(Idss), log10(Ioff):\", df[[\"log_idss\",\"log_ioff\"]].corr().iloc[0,1])\n",
    "\n",
    "# Fraction of Ioff fails that are physical:\n",
    "ioff_limit = 2000.0  # nA in your default\n",
    "ioff_fails = df[df[\"Ioff_nA\"] > ioff_limit]\n",
    "print(\"Ioff fail count:\", len(ioff_fails))\n",
    "print(\"Fraction with PhysicalDefect:\", ioff_fails[\"PhysicalDefect\"].notna().mean())\n",
    "print(\"Top physical types among Ioff fails:\")\n",
    "print(ioff_fails[\"PhysicalDefect\"].value_counts().head())\n"
   ]
  }
 ],
 "metadata": {
  "kernelspec": {
   "display_name": "Python 3 (ipykernel)",
   "language": "python",
   "name": "python3"
  },
  "language_info": {
   "codemirror_mode": {
    "name": "ipython",
    "version": 3
   },
   "file_extension": ".py",
   "mimetype": "text/x-python",
   "name": "python",
   "nbconvert_exporter": "python",
   "pygments_lexer": "ipython3",
   "version": "3.13.5"
  }
 },
 "nbformat": 4,
 "nbformat_minor": 5
}
